{
 "cells": [
  {
   "cell_type": "code",
   "execution_count": 10,
   "metadata": {},
   "outputs": [
    {
     "name": "stdout",
     "output_type": "stream",
     "text": [
      "Hello\n"
     ]
    }
   ],
   "source": [
    "#defining strings in python\n",
    "# all of them are equivalent\n",
    "my_string='Hello'\n",
    "print(my_string)"
   ]
  },
  {
   "cell_type": "code",
   "execution_count": 7,
   "metadata": {},
   "outputs": [
    {
     "name": "stdout",
     "output_type": "stream",
     "text": [
      "hello\n"
     ]
    }
   ],
   "source": [
    "my_string=\"hello\"\n",
    "print(my_string)"
   ]
  },
  {
   "cell_type": "code",
   "execution_count": 8,
   "metadata": {},
   "outputs": [
    {
     "name": "stdout",
     "output_type": "stream",
     "text": [
      "Hello\n"
     ]
    }
   ],
   "source": [
    "my_string='''Hello'''\n",
    "print(my_string)"
   ]
  },
  {
   "cell_type": "code",
   "execution_count": 9,
   "metadata": {},
   "outputs": [
    {
     "name": "stdout",
     "output_type": "stream",
     "text": [
      "Hello,welcome to the world of python\n"
     ]
    }
   ],
   "source": [
    "my_string=\"\"\"Hello,welcome to the world of python\"\"\"\n",
    "print(my_string)"
   ]
  },
  {
   "cell_type": "code",
   "execution_count": 11,
   "metadata": {},
   "outputs": [
    {
     "name": "stdout",
     "output_type": "stream",
     "text": [
      "str = digipodium\n",
      "str [0]= d\n",
      "str [1]= i\n",
      "str [2]= g\n",
      "str [-1]= m\n",
      "str [-2]= u\n"
     ]
    }
   ],
   "source": [
    "str='digipodium'\n",
    "print('str =',str)\n",
    "\n",
    "print('str [0]=',str[0])\n",
    "\n",
    "print('str [1]=',str[1])\n",
    "print('str [2]=',str[2])\n",
    "print('str [-1]=',str[-1])\n",
    "print('str [-2]=',str[-2])"
   ]
  },
  {
   "cell_type": "code",
   "execution_count": 18,
   "metadata": {},
   "outputs": [
    {
     "data": {
      "text/plain": [
       "'chauhan'"
      ]
     },
     "execution_count": 18,
     "metadata": {},
     "output_type": "execute_result"
    }
   ],
   "source": [
    "name ='vijay deenanath chauhan'\n",
    "name[:5]\n",
    "name[16:]"
   ]
  },
  {
   "cell_type": "code",
   "execution_count": 27,
   "metadata": {},
   "outputs": [
    {
     "data": {
      "text/plain": [
       "'edward'"
      ]
     },
     "execution_count": 27,
     "metadata": {},
     "output_type": "execute_result"
    }
   ],
   "source": [
    "username=\"@edward😊😊😊\"\n",
    "username[1:-3]\n",
    "username[1:7]"
   ]
  },
  {
   "cell_type": "code",
   "execution_count": 29,
   "metadata": {},
   "outputs": [
    {
     "name": "stdout",
     "output_type": "stream",
     "text": [
      "abcdef\n",
      "acegikmoqsuwy\n",
      "zyxwvutsrqponmlkjihgfedcba\n",
      "bdfhjlnprtvxz\n"
     ]
    }
   ],
   "source": [
    "english ='abcdefghijklmnopqrstuvwxyz'\n",
    "print(english[:6])\n",
    "print(english[::2])\n",
    "print(english[::-1])\n",
    "print(english[1::2])"
   ]
  },
  {
   "cell_type": "code",
   "execution_count": 35,
   "metadata": {},
   "outputs": [
    {
     "data": {
      "text/plain": [
       "'e lazy dog'"
      ]
     },
     "execution_count": 35,
     "metadata": {},
     "output_type": "execute_result"
    }
   ],
   "source": [
    "msg='the quick brown fox jump over the lazy dog'\n",
    "msg[:10]\n",
    "msg[-10:]"
   ]
  },
  {
   "cell_type": "code",
   "execution_count": 36,
   "metadata": {},
   "outputs": [
    {
     "name": "stdout",
     "output_type": "stream",
     "text": [
      "A\n"
     ]
    }
   ],
   "source": [
    "x=chr(65)\n",
    "print(x)\n"
   ]
  },
  {
   "cell_type": "code",
   "execution_count": 37,
   "metadata": {},
   "outputs": [
    {
     "name": "stdout",
     "output_type": "stream",
     "text": [
      "ऽ\n"
     ]
    }
   ],
   "source": [
    "x=chr(2365)\n",
    "print(x)"
   ]
  },
  {
   "cell_type": "code",
   "execution_count": 38,
   "metadata": {},
   "outputs": [
    {
     "name": "stdout",
     "output_type": "stream",
     "text": [
      "き\n"
     ]
    }
   ],
   "source": [
    "x=chr(12365)\n",
    "print(x)"
   ]
  },
  {
   "cell_type": "code",
   "execution_count": 40,
   "metadata": {},
   "outputs": [
    {
     "name": "stdout",
     "output_type": "stream",
     "text": [
      "65\n"
     ]
    }
   ],
   "source": [
    "y=ord('A')\n",
    "print(y)"
   ]
  },
  {
   "cell_type": "code",
   "execution_count": 41,
   "metadata": {},
   "outputs": [
    {
     "name": "stdout",
     "output_type": "stream",
     "text": [
      "123\n"
     ]
    }
   ],
   "source": [
    "y=ord('{')\n",
    "print(y)"
   ]
  },
  {
   "cell_type": "code",
   "execution_count": 39,
   "metadata": {},
   "outputs": [
    {
     "name": "stdout",
     "output_type": "stream",
     "text": [
      "97\n"
     ]
    }
   ],
   "source": [
    "y=ord('a')\n",
    "print(y)\n"
   ]
  },
  {
   "cell_type": "code",
   "execution_count": 42,
   "metadata": {},
   "outputs": [
    {
     "name": "stdout",
     "output_type": "stream",
     "text": [
      "applejuice\n"
     ]
    }
   ],
   "source": [
    "a='apple'\n",
    "b='juice'\n",
    "ab=a+b\n",
    "print(ab)"
   ]
  },
  {
   "cell_type": "code",
   "execution_count": 43,
   "metadata": {},
   "outputs": [
    {
     "name": "stdout",
     "output_type": "stream",
     "text": [
      "thisisamazing\n"
     ]
    }
   ],
   "source": [
    "w1='this'\n",
    "w2='is'\n",
    "w3='amazing'\n",
    "x=w1+w2+w3\n",
    "print(x)"
   ]
  },
  {
   "cell_type": "code",
   "execution_count": 46,
   "metadata": {},
   "outputs": [
    {
     "name": "stdout",
     "output_type": "stream",
     "text": [
      "this is amazing\n"
     ]
    }
   ],
   "source": [
    "msg=w1 + ' ' + w2 + ' '+ w3\n",
    "print(msg)"
   ]
  },
  {
   "cell_type": "code",
   "execution_count": 47,
   "metadata": {},
   "outputs": [
    {
     "name": "stdout",
     "output_type": "stream",
     "text": [
      "Alexander was an idiotAlexander was an idiotAlexander was an idiotAlexander was an idiotAlexander was an idiotAlexander was an idiotAlexander was an idiotAlexander was an idiotAlexander was an idiotAlexander was an idiot\n"
     ]
    }
   ],
   "source": [
    "word='Alexander was an idiot'\n",
    "print(word*10)"
   ]
  },
  {
   "cell_type": "code",
   "execution_count": 49,
   "metadata": {},
   "outputs": [
    {
     "name": "stdout",
     "output_type": "stream",
     "text": [
      "----------\n"
     ]
    }
   ],
   "source": [
    "print('-' *10)"
   ]
  },
  {
   "cell_type": "markdown",
   "metadata": {},
   "source": [
    "#string methods\n",
    "#searching and replacing\n",
    "#1. find and replace"
   ]
  },
  {
   "cell_type": "code",
   "execution_count": 2,
   "metadata": {},
   "outputs": [
    {
     "name": "stdout",
     "output_type": "stream",
     "text": [
      "16\n",
      "12\n",
      "-1\n"
     ]
    }
   ],
   "source": [
    "msg='the quick brown fox jumps over the lazy dog'\n",
    "print(msg.find('fox'))\n",
    "print(msg.find('o'))\n",
    "print(msg.find('ace')) #-1 means not found"
   ]
  },
  {
   "cell_type": "code",
   "execution_count": 7,
   "metadata": {},
   "outputs": [
    {
     "name": "stdout",
     "output_type": "stream",
     "text": [
      "the quick brown Aishwarya Rai jumps over the lazy dog\n",
      "the quick brown fox jumps over the lazy Salman\n",
      "the quick brown fox jumps over the lazy dog\n",
      "the ass kicker Aishwarya rai jumps over the lazy salman\n"
     ]
    }
   ],
   "source": [
    "msg='the quick brown fox jumps over the lazy dog'\n",
    "print(msg.replace('fox','Aishwarya Rai'))\n",
    "print(msg.replace('dog','Salman'))\n",
    "print(msg.replace('ace','Heart')) #-1 means not found\n",
    "print(msg.replace('fox','Aishwarya rai').replace('dog','salman').replace('quick','ass').replace('brown','kicker')) #-1 means not found"
   ]
  },
  {
   "cell_type": "code",
   "execution_count": null,
   "metadata": {},
   "outputs": [],
   "source": [
    "#Manipulatiuon of  string into list and vice versa\n",
    "#1.split\n",
    "#2.join\n",
    "#3.strip"
   ]
  },
  {
   "cell_type": "code",
   "execution_count": 9,
   "metadata": {},
   "outputs": [
    {
     "name": "stdout",
     "output_type": "stream",
     "text": [
      "['the', 'quick', 'brown', 'fox', 'jumps', 'over', 'the', 'lazy', 'dog']\n",
      "['life before death', 'strength before weakness', 'journey before destination']\n",
      "['Johny johny yes papa', 'eating sugar no papa', 'telling lies no papa ', 'open your mouth haaah thuuu']\n"
     ]
    }
   ],
   "source": [
    "print(msg.split())\n",
    "msg2=\"life before death,strength before weakness,journey before destination\"\n",
    "print(msg2.split(','))\n",
    "poem='''Johny johny yes papa\n",
    "eating sugar no papa\n",
    "telling lies no papa \n",
    "open your mouth haaah thuuu\n",
    "'''\n",
    "print(poem.splitlines())"
   ]
  },
  {
   "cell_type": "code",
   "execution_count": 11,
   "metadata": {},
   "outputs": [
    {
     "name": "stdout",
     "output_type": "stream",
     "text": [
      "why did newton sat under that apple tree\n",
      "why# did# newton# sat# under# that# apple# tree\n",
      "why,did,newton,sat,under,that,apple,tree\n",
      "why❤ did❤ newton❤ sat❤ under❤ that❤ apple❤ tree\n"
     ]
    }
   ],
   "source": [
    "x=['why','did','newton','sat','under','that','apple','tree']\n",
    "print(\" \".join(x))\n",
    "print(\"# \".join(x))\n",
    "print(\",\".join(x))\n",
    "print(\"❤ \".join(x))"
   ]
  },
  {
   "cell_type": "code",
   "execution_count": 12,
   "metadata": {},
   "outputs": [
    {
     "name": "stdout",
     "output_type": "stream",
     "text": [
      "apples\n",
      "bananas\n",
      "carrots\n",
      "bangdu\n"
     ]
    }
   ],
   "source": [
    "a=\"apples\"\n",
    "b=' bananas'\n",
    "c=\"carrots\"\n",
    "d='''\n",
    "bangdu\n",
    "'''\n",
    "print(a.strip())\n",
    "print(b.strip())\n",
    "print(c.strip())\n",
    "print(d.strip())"
   ]
  },
  {
   "cell_type": "code",
   "execution_count": null,
   "metadata": {},
   "outputs": [],
   "source": [
    "#counting\n",
    "#1.count"
   ]
  },
  {
   "cell_type": "code",
   "execution_count": 13,
   "metadata": {},
   "outputs": [
    {
     "name": "stdout",
     "output_type": "stream",
     "text": [
      "1\n",
      "12\n",
      "1\n",
      "0\n"
     ]
    }
   ],
   "source": [
    "sentence='''Once upon a time, in bharat,there lived chacha chaudhary,who ha an airport named after him'''\n",
    "print(sentence.count('airport'))\n",
    "print(sentence.count('a'))\n",
    "print(sentence.count('in'))\n",
    "print(sentence.count('netaji'))"
   ]
  },
  {
   "cell_type": "code",
   "execution_count": null,
   "metadata": {},
   "outputs": [],
   "source": [
    "#formatting\n",
    "#1.upper\n",
    "#1.lower\n",
    "#1.capitalize\n",
    "#1.title"
   ]
  },
  {
   "cell_type": "code",
   "execution_count": 16,
   "metadata": {},
   "outputs": [
    {
     "name": "stdout",
     "output_type": "stream",
     "text": [
      "ONCE UPON A TIME, IN BHARAT,THERE LIVED CHACHA CHAUDHARY,WHO HA AN AIRPORT NAMED AFTER HIM\n",
      "once upon a time, in bharat,there lived chacha chaudhary,who ha an airport named after him\n",
      "Once upon a time, in bharat,there lived chacha chaudhary,who ha an airport named after him\n",
      "Once Upon A Time, In Bharat,There Lived Chacha Chaudhary,Who Ha An Airport Named After Him\n"
     ]
    }
   ],
   "source": [
    "print(sentence.upper())\n",
    "print(sentence.lower())\n",
    "print(sentence.capitalize())\n",
    "print(sentence.title())"
   ]
  }
 ],
 "metadata": {
  "kernelspec": {
   "display_name": "base",
   "language": "python",
   "name": "python3"
  },
  "language_info": {
   "codemirror_mode": {
    "name": "ipython",
    "version": 3
   },
   "file_extension": ".py",
   "mimetype": "text/x-python",
   "name": "python",
   "nbconvert_exporter": "python",
   "pygments_lexer": "ipython3",
   "version": "3.11.5"
  }
 },
 "nbformat": 4,
 "nbformat_minor": 2
}
