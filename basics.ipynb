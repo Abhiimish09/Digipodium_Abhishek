{
 "cells": [
  {
   "cell_type": "code",
   "execution_count": 1,
   "metadata": {},
   "outputs": [],
   "source": [
    "a = 2390"
   ]
  },
  {
   "cell_type": "code",
   "execution_count": 2,
   "metadata": {},
   "outputs": [
    {
     "name": "stdout",
     "output_type": "stream",
     "text": [
      "15750.0\n"
     ]
    }
   ],
   "source": [
    "p = 100000\n",
    "r = 3.15\n",
    "t = 5\n",
    "si = p * r * t / 100\n",
    "print(si)"
   ]
  },
  {
   "cell_type": "code",
   "execution_count": 3,
   "metadata": {},
   "outputs": [],
   "source": [
    "a = 23901\n",
    "b = 21.11\n",
    "c = \"String here\"\n",
    "d = True\n",
    "e = None"
   ]
  },
  {
   "cell_type": "code",
   "execution_count": 4,
   "metadata": {},
   "outputs": [],
   "source": [
    "fruits = ['apple', 'banana','chestnut']\n",
    "coords = (2,4,5)\n",
    "items  = {3,5,1,2,5,6,2,1}\n",
    "emp = {'name':'Alex', 'age':30}"
   ]
  },
  {
   "cell_type": "code",
   "execution_count": 5,
   "metadata": {},
   "outputs": [
    {
     "data": {
      "text/plain": [
       "True"
      ]
     },
     "execution_count": 5,
     "metadata": {},
     "output_type": "execute_result"
    }
   ],
   "source": [
    "'chestnut' in fruits"
   ]
  },
  {
   "cell_type": "code",
   "execution_count": 6,
   "metadata": {},
   "outputs": [
    {
     "data": {
      "text/plain": [
       "False"
      ]
     },
     "execution_count": 6,
     "metadata": {},
     "output_type": "execute_result"
    }
   ],
   "source": [
    "'mango' in fruits"
   ]
  },
  {
   "cell_type": "code",
   "execution_count": 7,
   "metadata": {},
   "outputs": [],
   "source": [
    "name = input('enter your name:')\n",
    "age = int(input('enter your age:'))"
   ]
  },
  {
   "cell_type": "code",
   "execution_count": 8,
   "metadata": {},
   "outputs": [
    {
     "name": "stdout",
     "output_type": "stream",
     "text": [
      "25.0\n",
      "1964.2857142857142\n"
     ]
    }
   ],
   "source": [
    "pi = 22/7\n",
    "r = float(input('enter radius:'))\n",
    "area = pi*r**2\n",
    "print(r)\n",
    "print(area)"
   ]
  },
  {
   "cell_type": "code",
   "execution_count": 9,
   "metadata": {},
   "outputs": [
    {
     "name": "stdout",
     "output_type": "stream",
     "text": [
      "a=23901, b=21.11, c=String here\n"
     ]
    }
   ],
   "source": [
    "# output using f-strings\n",
    "print(f'a={a}, b={b}, c={c}')"
   ]
  },
  {
   "cell_type": "code",
   "execution_count": 10,
   "metadata": {},
   "outputs": [
    {
     "name": "stdout",
     "output_type": "stream",
     "text": [
      "23901 21.11 String here\n",
      "a = 23901 b = 21.11 c = String here\n"
     ]
    }
   ],
   "source": [
    "# comma seperated display\n",
    "print(a, b, c)\n",
    "print('a =',a, 'b =', b,'c =',c)"
   ]
  },
  {
   "cell_type": "code",
   "execution_count": 11,
   "metadata": {},
   "outputs": [
    {
     "name": "stdout",
     "output_type": "stream",
     "text": [
      "Your Details\n",
      "🙍Name: abhishek mishra\n",
      "Favorite Things\n",
      "📺Movie: insidious\n",
      "🍴Food: pizza\n"
     ]
    }
   ],
   "source": [
    "name = input('Name:')\n",
    "fav_movie = input(\"Your favorite movie:\")\n",
    "fav_food = input(\"Your favorite food:\")\n",
    "\n",
    "print('Your Details')\n",
    "print(f'🙍Name: {name}')\n",
    "print('Favorite Things')\n",
    "print(f\"📺Movie: {fav_movie}\")\n",
    "print(f\"🍴Food: {fav_food}\")"
   ]
  }
 ],
 "metadata": {
  "kernelspec": {
   "display_name": "base",
   "language": "python",
   "name": "python3"
  },
  "language_info": {
   "codemirror_mode": {
    "name": "ipython",
    "version": 3
   },
   "file_extension": ".py",
   "mimetype": "text/x-python",
   "name": "python",
   "nbconvert_exporter": "python",
   "pygments_lexer": "ipython3",
   "version": "3.11.5"
  }
 },
 "nbformat": 4,
 "nbformat_minor": 2
}
