{
 "cells": [
  {
   "cell_type": "code",
   "execution_count": 1,
   "metadata": {},
   "outputs": [
    {
     "name": "stdout",
     "output_type": "stream",
     "text": [
      "the end\n"
     ]
    }
   ],
   "source": [
    "a = int(input(\"Enter number\"))\n",
    "if a % 7 == 0:\n",
    "    print('Divisible by 7')\n",
    "    print('Hurray🎉🎉')\n",
    "print('the end')"
   ]
  },
  {
   "cell_type": "code",
   "execution_count": null,
   "metadata": {},
   "outputs": [
    {
     "name": "stdout",
     "output_type": "stream",
     "text": [
      "Password is too short\n"
     ]
    }
   ],
   "source": [
    "pwd = input(\"Enter password\")\n",
    "if len(pwd) >= 8:\n",
    "    print('Password is OK')\n",
    "else:\n",
    "    print('Password is too short')"
   ]
  },
  {
   "cell_type": "code",
   "execution_count": null,
   "metadata": {},
   "outputs": [
    {
     "name": "stdout",
     "output_type": "stream",
     "text": [
      "Your report\n",
      "Percentage: 609.33%\n",
      "Grade: A\n"
     ]
    }
   ],
   "source": [
    "marks = int(input('Enter marks'))\n",
    "total = 600\n",
    "pct = marks / total * 100\n",
    "if pct >= 90:\n",
    "    grade = 'A'\n",
    "elif pct >= 75:\n",
    "    grade = 'B'\n",
    "elif pct >= 60:\n",
    "    grade = 'C'\n",
    "elif pct >= 40:\n",
    "    grade = 'D'\n",
    "else:\n",
    "    grade = 'F'\n",
    "print(f'Your report')\n",
    "print(f'Percentage: {pct:.2f}%')\n",
    "print(f'Grade: {grade}')"
   ]
  },
  {
   "cell_type": "code",
   "execution_count": null,
   "metadata": {},
   "outputs": [
    {
     "name": "stdout",
     "output_type": "stream",
     "text": [
      "What is the square root of 16?\n",
      "This is absurd\n"
     ]
    }
   ],
   "source": [
    "print(\"What is the square root of 16?\")\n",
    "ans = int(input(\"Answer\"))\n",
    "match ans:\n",
    "    case 2: print('Incorrect')\n",
    "    case 4: print('Correct')\n",
    "    case _: print('This is absurd')"
   ]
  },
  {
   "cell_type": "code",
   "execution_count": null,
   "metadata": {},
   "outputs": [
    {
     "name": "stdout",
     "output_type": "stream",
     "text": [
      "The Godfather\n",
      "The Shawshank Redemption\n",
      "Pulp Fiction\n",
      "The Dark Knight\n",
      "100\n",
      "102\n",
      "104\n",
      "106\n",
      "108\n",
      "10\n",
      "9\n",
      "8\n",
      "7\n",
      "6\n",
      "5\n",
      "4\n",
      "3\n",
      "2\n",
      "1\n"
     ]
    }
   ],
   "source": [
    "#for loop - iteration based\n",
    "#while loop - condition based\n",
    "movies = ['The Godfather', 'The Shawshank Redemption', \n",
    "          'Pulp Fiction', 'The Dark Knight']\n",
    "for movie in movies:\n",
    "    print(movie)\n",
    "for i in range(100, 110, 2):\n",
    "    print(i)\n",
    "for a in range(10, 0, -1):\n",
    "    print(a)"
   ]
  },
  {
   "cell_type": "code",
   "execution_count": null,
   "metadata": {},
   "outputs": [
    {
     "name": "stdout",
     "output_type": "stream",
     "text": [
      "2450\n"
     ]
    },
    {
     "data": {
      "text/plain": [
       "2450"
      ]
     },
     "execution_count": 6,
     "metadata": {},
     "output_type": "execute_result"
    }
   ],
   "source": [
    "# sum of all even numbers from 0 to 100\n",
    "total = 0\n",
    "for i in range(0,100, 2):\n",
    "    total += i\n",
    "print(total)\n",
    "sum(range(0, 100, 2)) # same but pythonic"
   ]
  },
  {
   "cell_type": "code",
   "execution_count": null,
   "metadata": {},
   "outputs": [
    {
     "name": "stdout",
     "output_type": "stream",
     "text": [
      "1\n",
      "2\n",
      "3\n",
      "4\n",
      "5\n",
      "6\n",
      "7\n",
      "8\n",
      "9\n"
     ]
    }
   ],
   "source": [
    "i = 1\n",
    "while i < 10:\n",
    "    print(i)\n",
    "    i+=1"
   ]
  },
  {
   "cell_type": "code",
   "execution_count": null,
   "metadata": {},
   "outputs": [
    {
     "name": "stdout",
     "output_type": "stream",
     "text": [
      "You are not eligible\n"
     ]
    }
   ],
   "source": [
    "while True:\n",
    "    iq = int(input('Enter IQ'))\n",
    "    if iq > 120:\n",
    "        print('You are not eligible')\n",
    "        break\n",
    "    print('You need to learn more and increase your IQ')"
   ]
  }
 ],
 "metadata": {
  "kernelspec": {
   "display_name": "base",
   "language": "python",
   "name": "python3"
  },
  "language_info": {
   "codemirror_mode": {
    "name": "ipython",
    "version": 3
   },
   "file_extension": ".py",
   "mimetype": "text/x-python",
   "name": "python",
   "nbconvert_exporter": "python",
   "pygments_lexer": "ipython3",
   "version": "3.11.5"
  }
 },
 "nbformat": 4,
 "nbformat_minor": 2
}
